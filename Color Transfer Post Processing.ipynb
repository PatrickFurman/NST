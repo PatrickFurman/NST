{
 "cells": [
  {
   "cell_type": "code",
   "execution_count": 1,
   "id": "19ee38ba",
   "metadata": {},
   "outputs": [],
   "source": [
    "import tensorflow as tf\n",
    "import cv2\n",
    "import numpy as np"
   ]
  },
  {
   "cell_type": "code",
   "execution_count": 2,
   "id": "2f7fa707",
   "metadata": {},
   "outputs": [],
   "source": [
    "def scale_image(image):\n",
    "    image_min = tf.reduce_min(image)\n",
    "    image_max = tf.reduce_max(image)\n",
    "    image_range = image_max-image_min\n",
    "    return tf.divide(tf.subtract(image, image_min), image_range)"
   ]
  },
  {
   "cell_type": "code",
   "execution_count": 9,
   "id": "9565e402",
   "metadata": {},
   "outputs": [
    {
     "data": {
      "text/plain": [
       "True"
      ]
     },
     "execution_count": 9,
     "metadata": {},
     "output_type": "execute_result"
    }
   ],
   "source": [
    "# Stylized image path\n",
    "image_path = \"./Output Images/stylized2.jpg\"\n",
    "content_path = \"./Content Images/arboretum resized 2.jpg\"\n",
    "\n",
    "# RGB Image\n",
    "b, g, r = cv2.split(cv2.imread(image_path))\n",
    "image = cv2.merge((r, g, b))\n",
    "b, g, r = cv2.split(cv2.imread(content_path))\n",
    "content_image = cv2.merge((r, g, b))\n",
    "\n",
    "image = scale_image(tf.Variable(tf.cast(tf.convert_to_tensor(image),\n",
    "                                                         dtype=tf.float32), trainable=True))\n",
    "content_image = scale_image(tf.Variable(tf.cast(tf.convert_to_tensor(content_image),\n",
    "                                                         dtype=tf.float32), trainable=True))\n",
    "\n",
    "# Extract luminance channel from stylized image\n",
    "yiq_image = tf.image.rgb_to_yiq(image)\n",
    "y_image = tf.split(yiq_image, yiq_image.shape[2], 2)[0]\n",
    "\n",
    "# Extract iq channels from original content image\n",
    "yiq_content = tf.image.rgb_to_yiq(content_image)\n",
    "iq_content = tf.split(yiq_content, yiq_content.shape[2], 2)[1:]\n",
    "\n",
    "# Combine luminance from stylized image with color from content\n",
    "yiq_new = tf.concat([y_image, iq_content[0], iq_content[1]], axis=2)\n",
    "rgb_new = tf.image.yiq_to_rgb(yiq_new)\n",
    "\n",
    "# Save newly colored image\n",
    "rgb_new = np.array(rgb_new*255, dtype=np.uint8)\n",
    "r, g, b = cv2.split(rgb_new)\n",
    "output =  cv2.merge((b, g, r))\n",
    "cv2.imwrite(\"./Output Images/arboretum recolored.jpg\", output)"
   ]
  },
  {
   "cell_type": "code",
   "execution_count": 6,
   "id": "74a98b1a",
   "metadata": {},
   "outputs": [
    {
     "data": {
      "text/plain": [
       "array([[[ 89,  56,  23],\n",
       "        [ 98,  65,  32],\n",
       "        [108,  70,  38],\n",
       "        ...,\n",
       "        [156,  98,  46],\n",
       "        [  5, 203, 151],\n",
       "        [  0, 198, 146]],\n",
       "\n",
       "       [[ 91,  60,  27],\n",
       "        [ 48,  15, 239],\n",
       "        [ 56,  21, 245],\n",
       "        ...,\n",
       "        [165, 108,  53],\n",
       "        [  1, 200, 145],\n",
       "        [  6, 205, 150]],\n",
       "\n",
       "       [[172, 144, 110],\n",
       "        [146, 118,  84],\n",
       "        [175, 145, 110],\n",
       "        ...,\n",
       "        [ 77,  20, 221],\n",
       "        [211, 152,  96],\n",
       "        [ 64,   5, 205]],\n",
       "\n",
       "       ...,\n",
       "\n",
       "       [[  5,  10,   8],\n",
       "        [ 16,  21,  19],\n",
       "        [  1,   6,   4],\n",
       "        ...,\n",
       "        [194, 221, 241],\n",
       "        [ 95, 122, 143],\n",
       "        [102, 129, 150]],\n",
       "\n",
       "       [[  0,   1,   1],\n",
       "        [  8,  11,  10],\n",
       "        [  1,   6,   5],\n",
       "        ...,\n",
       "        [ 52,  78,  95],\n",
       "        [ 64,  89, 109],\n",
       "        [108, 132, 154]],\n",
       "\n",
       "       [[255,   0,   0],\n",
       "        [  3,   5,   5],\n",
       "        [255,   3,   2],\n",
       "        ...,\n",
       "        [144, 169, 185],\n",
       "        [105, 130, 150],\n",
       "        [ 64,  88, 110]]], dtype=uint8)"
      ]
     },
     "execution_count": 6,
     "metadata": {},
     "output_type": "execute_result"
    }
   ],
   "source": [
    "output"
   ]
  },
  {
   "cell_type": "code",
   "execution_count": null,
   "id": "064bf527",
   "metadata": {},
   "outputs": [],
   "source": []
  }
 ],
 "metadata": {
  "kernelspec": {
   "display_name": "Python 3 (ipykernel)",
   "language": "python",
   "name": "python3"
  },
  "language_info": {
   "codemirror_mode": {
    "name": "ipython",
    "version": 3
   },
   "file_extension": ".py",
   "mimetype": "text/x-python",
   "name": "python",
   "nbconvert_exporter": "python",
   "pygments_lexer": "ipython3",
   "version": "3.9.12"
  }
 },
 "nbformat": 4,
 "nbformat_minor": 5
}
